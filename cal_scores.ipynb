{
 "cells": [
  {
   "cell_type": "code",
   "execution_count": 10,
   "metadata": {},
   "outputs": [],
   "source": [
    "import os, sys, json\n",
    "import scipy.stats\n"
   ]
  },
  {
   "cell_type": "code",
   "execution_count": 2,
   "metadata": {},
   "outputs": [],
   "source": [
    "from datasets import load_dataset"
   ]
  },
  {
   "cell_type": "code",
   "execution_count": 3,
   "metadata": {},
   "outputs": [],
   "source": [
    "dataset = load_dataset(\"yelp_review_full\")"
   ]
  },
  {
   "cell_type": "code",
   "execution_count": 5,
   "metadata": {},
   "outputs": [],
   "source": [
    "dataset_test = dataset[\"test\"]"
   ]
  },
  {
   "cell_type": "code",
   "execution_count": 9,
   "metadata": {},
   "outputs": [],
   "source": [
    "def test_significance(df_train, metric1, metric2):\n",
    "    correlation, p_value = scipy.stats.spearmanr(df_train[metric1], df_train[metric2])\n",
    "    print(f'Correlation between {metric1} and {metric2}')\n",
    "    print(f\"Correlation coefficient: {correlation}\")\n",
    "    print(f\"P-value: {p_value}\")\n",
    "    significant = False\n",
    "    if p_value < 0.05:\n",
    "        significant = True \n",
    "    return {\n",
    "                    \"metric1\": metric1,\n",
    "                    \"metric2\": metric2,\n",
    "                    \"correlation\": correlation, \n",
    "                    \"p-value\": p_value, \n",
    "                    \"signficant\": significant\n",
    "                }"
   ]
  },
  {
   "cell_type": "code",
   "execution_count": 7,
   "metadata": {},
   "outputs": [],
   "source": [
    "# convert to json\n",
    "data = []\n",
    "for i in range(len(dataset_test)):\n",
    "    data.append({\"text\": dataset_test[i][\"text\"], \"gt_label\": dataset_test[i][\"label\"]})"
   ]
  },
  {
   "cell_type": "code",
   "execution_count": 11,
   "metadata": {},
   "outputs": [],
   "source": [
    "data_df = {x['text']: x for x in data}"
   ]
  },
  {
   "cell_type": "code",
   "execution_count": 12,
   "metadata": {},
   "outputs": [],
   "source": [
    "path_predicted_labels = \"/home/anmola/assignments_hw/sentiment-cartography/v2_dir_512_large/inference_results.json\""
   ]
  },
  {
   "cell_type": "code",
   "execution_count": 14,
   "metadata": {},
   "outputs": [],
   "source": [
    "with open(path_predicted_labels, \"r\") as f:\n",
    "    predicted_df = json.load(f)"
   ]
  },
  {
   "cell_type": "code",
   "execution_count": 39,
   "metadata": {},
   "outputs": [
    {
     "name": "stdout",
     "output_type": "stream",
     "text": [
      "It's hard to complain about this place given the price I got it for! \\n**Warning** This is a long review, there is a lot to break down.\\n\\nB -- S\\n-- Grandparents have an Interval International timeshare so they booked this place for a week for me\\n-- 2 br suite really means 2 adjointed rooms (1 being a jr suite & the other being a regular suit w/ patio)\\n-- Located about 10 mins from The Las Vegas Strip\\n-- Plenty of free parking and shaded spots\\n-- 24 hour pool, say what! BBQ grills available for use\\n-- Exercise room\\n-- Free shuttle\\n-- Paid wireless $10 - $30 (I forget the exact price for how much)\\n\\nOK, so this place isn't the \\\"gem of Las Vegas.\\\" Let's just put that out there! For what it is, it's actually a decent place. My Grammie got me a 2 bedroom suite for a week for under $400. If you can find a place to sleep 6 - 10 people for that amount, let me know! And if it's in old town Las Vegas, no thank you. You can see the sign as you drive down Tropicana, just hang a left and there it is on the left side.\\n\\nSo let's talk about service. The front desk was very friendly, let us check in a little bit early. And took care of anything we needed but let me tell you I've done Las Vegas more than a few times, so my group didn't need much. Housekeeping happens like after a few days so we checked in Tuesday and got our rooms cleaned on Friday/Saturday. In addition to cleaning our rooms, we received plenty of towels, blankets, pillows on demand.\\n\\nThe room was decent. It's not the Ritz Carlton by no means. My GF & I shared the single jr suite room. It had a decent size closet, dresser, & bathroom. The bathroom was cool, nothing special. The shower did have a nice size bathtub so you could take a relaxing bath. Our toilet clogged up but they sent someone right up and it was good for the rest of the week. The bed was pretty comfortable, pillows and blankets better than a cheap motel. The AC worked awesome and kept both of the rooms very cool. It was nice to have a mini kitchen with a fridge for our\n"
     ]
    }
   ],
   "source": [
    "for elem in predicted_df:\n",
    "    review_text = elem[\"review\"]\n",
    "    if review_text not in data_df:\n",
    "        print(review_text)\n",
    "\n",
    "        # assert(review_text in data_df)\n",
    "        break\n",
    "    data_df[review_text][\"multiclass_predicted_label\"] = elem[\"predicted_label\"]"
   ]
  },
  {
   "cell_type": "code",
   "execution_count": 40,
   "metadata": {},
   "outputs": [
    {
     "data": {
      "text/plain": [
       "2033"
      ]
     },
     "execution_count": 40,
     "metadata": {},
     "output_type": "execute_result"
    }
   ],
   "source": [
    "len(review_text)"
   ]
  },
  {
   "cell_type": "code",
   "execution_count": 41,
   "metadata": {},
   "outputs": [
    {
     "data": {
      "text/plain": [
       "3526"
      ]
     },
     "execution_count": 41,
     "metadata": {},
     "output_type": "execute_result"
    }
   ],
   "source": [
    "len(key_now)"
   ]
  },
  {
   "cell_type": "code",
   "execution_count": 43,
   "metadata": {},
   "outputs": [
    {
     "data": {
      "text/plain": [
       "True"
      ]
     },
     "execution_count": 43,
     "metadata": {},
     "output_type": "execute_result"
    }
   ],
   "source": []
  },
  {
   "cell_type": "code",
   "execution_count": 20,
   "metadata": {},
   "outputs": [],
   "source": [
    "with open(\"test_results.json\", \"w\") as f:\n",
    "    json.dump(data_df, f, indent=1)"
   ]
  },
  {
   "cell_type": "code",
   "execution_count": 37,
   "metadata": {},
   "outputs": [
    {
     "name": "stdout",
     "output_type": "stream",
     "text": [
      "{'text': 'It\\'s hard to complain about this place given the price I got it for! \\\\n**Warning** This is a long review, there is a lot to break down.\\\\n\\\\nB -- S\\\\n-- Grandparents have an Interval International timeshare so they booked this place for a week for me\\\\n-- 2 br suite really means 2 adjointed rooms (1 being a jr suite & the other being a regular suit w/ patio)\\\\n-- Located about 10 mins from The Las Vegas Strip\\\\n-- Plenty of free parking and shaded spots\\\\n-- 24 hour pool, say what! BBQ grills available for use\\\\n-- Exercise room\\\\n-- Free shuttle\\\\n-- Paid wireless $10 - $30 (I forget the exact price for how much)\\\\n\\\\nOK, so this place isn\\'t the \\\\\"gem of Las Vegas.\\\\\" Let\\'s just put that out there! For what it is, it\\'s actually a decent place. My Grammie got me a 2 bedroom suite for a week for under $400. If you can find a place to sleep 6 - 10 people for that amount, let me know! And if it\\'s in old town Las Vegas, no thank you. You can see the sign as you drive down Tropicana, just hang a left and there it is on the left side.\\\\n\\\\nSo let\\'s talk about service. The front desk was very friendly, let us check in a little bit early. And took care of anything we needed but let me tell you I\\'ve done Las Vegas more than a few times, so my group didn\\'t need much. Housekeeping happens like after a few days so we checked in Tuesday and got our rooms cleaned on Friday/Saturday. In addition to cleaning our rooms, we received plenty of towels, blankets, pillows on demand.\\\\n\\\\nThe room was decent. It\\'s not the Ritz Carlton by no means. My GF & I shared the single jr suite room. It had a decent size closet, dresser, & bathroom. The bathroom was cool, nothing special. The shower did have a nice size bathtub so you could take a relaxing bath. Our toilet clogged up but they sent someone right up and it was good for the rest of the week. The bed was pretty comfortable, pillows and blankets better than a cheap motel. The AC worked awesome and kept both of the rooms very cool. It was nice to have a mini kitchen with a fridge for our stuff and a sink. We also had cups and plates. I was pretty pleased with the room in general.\\\\n\\\\nOur friends shared the adjointed room next door. It had almost a full kitchen with oven and microwave, a dining table plus sofa sleeper. The balcony patio was cool but it faced the road instead of the pool. The full size fridge came in handy for supplies and food. Oh yeah, washer and dryer plus complimentary laundry soap! We all did some laundry!\\\\n\\\\nThe pool was NOT very clean. The hot tub had a whole crap load of leaves in there. I wasn\\'t impressed with the pool but the 24 hours was nice. We didn\\'t really take advantage of it though.\\\\n\\\\nThe exercise room was decent. It had a stationary bike, treadmill and stairmaster (I think). It also had a full body work out machine that you could do all the basic exercises with weights. They do stock towels there for you and your sweat which was nice.\\\\n\\\\nHonestly since I had a rental car, the distance from the strip was just fine. If I wanted to do Las Vegas on the strip with no rental car, I wouldn\\'t stay here. My friends used the shuttle and you\\'re not getting anywhere fast on that thing. In addition it takes a while to get from point A to point B. \\\\n\\\\nAll in all I would rate this place at around 3.5 stars. It\\'s better than an average motel and it\\'s pretty cheap and decent! I will say that I didn\\'t really hear any neighbors or anything but I wasn\\'t in my room from 7pm to 7am, lol. I was in Las Vegas for the Electronic Daisy Carnival!', 'gt_label': 2}\n"
     ]
    }
   ],
   "source": [
    "key_now = None\n",
    "for key in data_df:\n",
    "    # print()\n",
    "    if \"hard to complain about this place given the price\" in key:\n",
    "        key_now = key\n",
    "        print(data_df[key])\n",
    "        break\n",
    "    # break"
   ]
  },
  {
   "cell_type": "code",
   "execution_count": 24,
   "metadata": {},
   "outputs": [
    {
     "data": {
      "text/plain": [
       "['I got \\'new\\' tires from them and within two weeks got a flat. I took my car to a local mechanic to see if i could get the hole patched, but they said the reason I had a flat was because the previous patch had blown - WAIT, WHAT? I just got the tire and never needed to have it patched? This was supposed to be a new tire. \\\\nI took the tire over to Flynn\\'s and they told me that someone punctured my tire, then tried to patch it. So there are resentful tire slashers? I find that very unlikely. After arguing with the guy and telling him that his logic was far fetched he said he\\'d give me a new tire \\\\\"this time\\\\\". \\\\nI will never go back to Flynn\\'s b/c of the way this guy treated me and the simple fact that they gave me a used tire!',\n",
       " \"Don't waste your time.  We had two different people come to our house to give us estimates for a deck (one of them the OWNER).  Both times, we never heard from them.  Not a call, not the estimate, nothing.\"]"
      ]
     },
     "execution_count": 24,
     "metadata": {},
     "output_type": "execute_result"
    }
   ],
   "source": [
    "list(data_df.keys())[:2]"
   ]
  },
  {
   "cell_type": "code",
   "execution_count": 26,
   "metadata": {},
   "outputs": [],
   "source": [
    "all_keys = list(data_df.keys())"
   ]
  },
  {
   "cell_type": "code",
   "execution_count": 38,
   "metadata": {},
   "outputs": [
    {
     "name": "stdout",
     "output_type": "stream",
     "text": [
      "It's hard to complain about this place given the price I got it for! \\n**Warning** This is a long review, there is a lot to break down.\\n\\nB -- S\\n-- Grandparents have an Interval International timeshare so they booked this place for a week for me\\n-- 2 br suite really means 2 adjointed rooms (1 being a jr suite & the other being a regular suit w/ patio)\\n-- Located about 10 mins from The Las Vegas Strip\\n-- Plenty of free parking and shaded spots\\n-- 24 hour pool, say what! BBQ grills available for use\\n-- Exercise room\\n-- Free shuttle\\n-- Paid wireless $10 - $30 (I forget the exact price for how much)\\n\\nOK, so this place isn't the \\\"gem of Las Vegas.\\\" Let's just put that out there! For what it is, it's actually a decent place. My Grammie got me a 2 bedroom suite for a week for under $400. If you can find a place to sleep 6 - 10 people for that amount, let me know! And if it's in old town Las Vegas, no thank you. You can see the sign as you drive down Tropicana, just hang a left and there it is on the left side.\\n\\nSo let's talk about service. The front desk was very friendly, let us check in a little bit early. And took care of anything we needed but let me tell you I've done Las Vegas more than a few times, so my group didn't need much. Housekeeping happens like after a few days so we checked in Tuesday and got our rooms cleaned on Friday/Saturday. In addition to cleaning our rooms, we received plenty of towels, blankets, pillows on demand.\\n\\nThe room was decent. It's not the Ritz Carlton by no means. My GF & I shared the single jr suite room. It had a decent size closet, dresser, & bathroom. The bathroom was cool, nothing special. The shower did have a nice size bathtub so you could take a relaxing bath. Our toilet clogged up but they sent someone right up and it was good for the rest of the week. The bed was pretty comfortable, pillows and blankets better than a cheap motel. The AC worked awesome and kept both of the rooms very cool. It was nice to have a mini kitchen with a fridge for our stuff and a sink. We also had cups and plates. I was pretty pleased with the room in general.\\n\\nOur friends shared the adjointed room next door. It had almost a full kitchen with oven and microwave, a dining table plus sofa sleeper. The balcony patio was cool but it faced the road instead of the pool. The full size fridge came in handy for supplies and food. Oh yeah, washer and dryer plus complimentary laundry soap! We all did some laundry!\\n\\nThe pool was NOT very clean. The hot tub had a whole crap load of leaves in there. I wasn't impressed with the pool but the 24 hours was nice. We didn't really take advantage of it though.\\n\\nThe exercise room was decent. It had a stationary bike, treadmill and stairmaster (I think). It also had a full body work out machine that you could do all the basic exercises with weights. They do stock towels there for you and your sweat which was nice.\\n\\nHonestly since I had a rental car, the distance from the strip was just fine. If I wanted to do Las Vegas on the strip with no rental car, I wouldn't stay here. My friends used the shuttle and you're not getting anywhere fast on that thing. In addition it takes a while to get from point A to point B. \\n\\nAll in all I would rate this place at around 3.5 stars. It's better than an average motel and it's pretty cheap and decent! I will say that I didn't really hear any neighbors or anything but I wasn't in my room from 7pm to 7am, lol. I was in Las Vegas for the Electronic Daisy Carnival!\n"
     ]
    }
   ],
   "source": [
    "print(key_now)"
   ]
  },
  {
   "cell_type": "code",
   "execution_count": 27,
   "metadata": {},
   "outputs": [
    {
     "data": {
      "text/plain": [
       "['This is a NYC restaurant. That is a compliment and a complaint. There is no question the food is outstanding. Arguably the best in all of Charlotte and deserving of national acclaim. \\\\n\\\\nHere is my complaint. Have you ever dined somewhere that it spectacular and the place knows its spectacular? I have experienced this in NYC. Sort of like the honor is all mine and I should be grateful they have allowed me to dine there. Maybe it was just my experience, but there was just an air of pretentiousness. \\\\n\\\\nSecond. The place is way too small. This means they have to flip the tables quickly to turn a profit. I was there with a party of four. We ordered a bottle of wine and drinks. The beverages came and we had to order. We were not allowed to order our appetizers while we perused the entr\\\\u00e9e menu drank and chatted. Nope we had to order appetizers and entrees together. The waitress saw the incredulous look on my face and explained that the entrees take a while. \\\\n\\\\nWell the entrees didn\\'t take long. Sorry but after dropping over $250 I don\\'t think I should rushed. I worked in the restaurant industry. I know that people \\\\\"park\\\\\" themselves at their table. Trust me that was not what we did. This was an assembly line chain restaurant experience. Get\\'em in and get\\'em out. \\\\n\\\\nI am glad I went an experienced Chef Moffet\\'s food. He is incredible. He needs some help on the front end. I wouldn\\'t go back. Jim Noble restaurants are much better run and the food is on the same level.',\n",
       " \"Went here on a Thursday night at the last minute. We don't get to go out much so wanted to try someplace special. We were blown away by Barrington's and can't wait to go again. \\\\n\\\\nFor our first course, I had the mediterranean salad and my wife had the poached pear on argula. Both were simply incredible for many reasons. First, for the creativity and composition of the ingredients such as falafel, hummus, tzaziki, etc. Second, for the quality, freshness and taste, Third, for the presentation and display. \\\\n\\\\nOur entrees raised the bar even higher. I had the grilled swordfish which came on a bed of capellini. My wife had the pork tenderloin on a sweet potato mash with asparagus. The flavors of both dishes had subtle spices as the hint of chipotle in the pork bbq sauce.\\\\n\\\\nFor dessert, we split a granny smith apple cobbler topped by a scoop of their homemade vanilla ice cream. It was not too sweet or tart and was the perfect ending to the meal.\",\n",
       " 'this place never disappoints me. Tough to get in, reservations are a must but always delicious.',\n",
       " \"This UPS store shares its main entrance with the Caribou Coffee. They are a full service mailing shop, with boxes, packing materials and yes, they ship stuff by UPS. I think they also have a mailbox system, but I wasn't really paying attention. I just wanted to drop off my pre-paid package and be on my way. The clerk was friendly and helpful and got it done pronto. If I have more UPS mailing requirements, I'll be back.\",\n",
       " \"Everything really is a dollar (though some things are two for a dollar). I thought I might take a browse and see what there was and I was amazed. I somehow managed to pick up $7 worth of stuff that I actually needed for my place. Stuff that would have been twice or three times the price at the local Wal-Mart.\\\\n\\\\nIf you're looking to save a few bucks, Dollar Tree rocks!\",\n",
       " \"This is a very busy dollar store. No matter what time I go in there is always a line at the cashiers station. \\\\n\\\\nThis location has a good variety of merchandise, but the shelves (because they are so busy) are never fully stocked. \\\\n\\\\nThe employees definitely make this place 3.5 stars. I think they are always friendly, even with a line wrapped around to the door. They try their best even without a lot of extra help, and that's pretty much all you can ask for from your cashier.\",\n",
       " \"Sigh...to be honest, there is just no good food option in this shopping center. This Mccalister falls short just like many mccalisters. The lighting in here is kind of dark. The food...it lacks flavor. Don't come here if you want a good sandwich, which is funny because it is a deli. The typical scene you can expect is you come in, order with one of the high schooler staff up front and retrieve your food when it's ready at the counter. So-so food...ok price here for what you get.\",\n",
       " 'You would think fried chicken would be simple... Absolutely horrible.  A night visit only added insult to injury. 3 waitresses and still had to return one drink for lack of alcohol. If you want to shoot pool, go during the day, otherwise, stay clear!!!\\\\nPS: I had to remind them of the \\\\\"drink\\\\\" to get it removed from the bill.',\n",
       " 'Today was only my second visit to this location. My family just moved to Charlotte in June and frequented the location where we used to live. \\\\n\\\\nFirst visit was great, very friendly staff and welcoming when I mentioned we were new to Charlotte. I was happy to know I would have a great place to bring my 5 yr olds toys and clothes. \\\\n\\\\nToday was a different story!! I realize it is a Saturday (weekends are usually busy) but there appeared to be lots of staff on hand, but not much business taking place. I was sorely disappointed and left with a bag full of items that will go to Goodwill. Once Upon a Child needs to show \\\\\"a little\\\\\" regard for their customers and their time.',\n",
       " \"Very good food and I like the atmosphere and style. Maybe it is a little 80'ish looking on the design, but who doesn't love a place where you are taken back Miami Vice and shoulder pads in your leather jacket. \\\\nThe food is very good an I've tried a variety of things without being disappointed. Oven backed pizzas are good, shrimp and grits ok but I've had better. The baked Alaskan (I thought it was fish when my fianc\\\\u00e9 ordered it) is a wonderful dessert but only available certain times of the year.\",\n",
       " 'We eat at trio nearly twice a week. The menu has various different items and everything is good. I love the homemade chicken fingers and their brick oven pizzas are to die for. Trio is also very inexpensive for the quality of food that you get. Most dishes are under 12.00. The service is good as well.',\n",
       " 'Casual dinner with members tonight and food was great! Service was inexperienced.  Always love the location and people!',\n",
       " 'Kabuto is your run-of-the-mill Japanese Steakhouse. Different stations with chefs slinging shrimp tails around the communal dining areas like it\\'s a lunchtime magic show. Always a plethora of laughs and gags going around the group. \\\\n\\\\nThis place is great for lunch. $9 and 30 minutes and you\\'re out the door. Uhhh...If I\\'m craving a salad with ginger dressing, which I always am, (you do too. admit it) fried rice, steak, shrimp and white sauce (DUDE) then Kabuto is king of lunch options in my book. Always super clean and full of kindhearted staff. The parking lot is super difficult to get in and out of though. 51 traffic at lunch is a beast. Good luck getting stuck behind someone trying to cut across traffic at 12pm on a weekday. It\\'s murder. This place would greatly benefit from another exit/entrance or a stoplight. Here\\'s hoping....\\\\n\\\\nYou can\\'t really shake a stick at balanced lunch when you can have soup or a salad, veggies, fried rice and a choice of a protein for under $10 and be back out the door and headed back to the office or meeting. Glad to see these guys have taken this into account. Though, you should know that the $10 offering mostly comes in the protein department. Some may require more steak or chicken, which can be sparse. \\\\n\\\\nService is always quick and friendly. They do a wonderful job of memorizing orders. Rarely has it come to pass that my order has been mal-delivered. Quick on refills and I love that they always offer a to-go beverage. \\\\\"Why, yes! I would love a diet coke to go! How thoughtful!\\\\\" Pretty much always my thought process. \\\\n\\\\nThis place also does full dinner options and has sushi. Neither of which I have tried to date, but would happily oblige if the option was presented. \\\\n\\\\nThanks for the quick and entertaining lunch/service, Kabuto!',\n",
       " 'Well it\\'s not the place it use to be. We went there for my birthday per the kids request and we had the typical experience which was a lot of banging, a lot of yelling and a lot of fire. I can understand why kids love this place, me not so much. I use to enjoy their food back in the day but now you don\\'t get nearly the amount you use to get and what is with \\\\\"Japanese Katsup?\\\\\" That stuff is nasty. Didn\\'t they use to give you two sauces? I had to ask for something different and truth be told that sauce wasn\\'t much better and the chef seemed upset with me when I told him I wasn\\'t a fan of the Japanese Katsup. Dude get over it and go make your ring of fire.\\\\n\\\\n The food was MEH. Miso soup which really was chix broth with a little (and I stress little) sliced scallion and 2 thin slices of mushrooms, a salad which was Iceberg (BLEH) and their famous Ginger dressing, which I do admit, I like.\\\\n\\\\nThe entrees were MEH as well. I had the fillet, scallops and shrimp. My husband had the fillet and lobster. Our steaks were cooked perfectly but I think the chef was upset at the seafood because he MURDERED it. Every piece of seafood was so overcooked, it was like we had the fillet with rubber bands. I understand you want to put on a show but can you at least do it with the zucchini and leave the seafood be?\\\\n\\\\nThat evening my son and I had some sushi as well and I will say the fish was VERY fresh. Had I known the chef was going to incinerate my entree, I would have just stuck with the sushi.',\n",
       " \"Not my favorite experience at a Japanese Steakhouse. My food was good-- not phenomenal, but good. My waiter was relatively inattentive (and spoke limited English), and thus, got my order wrong; thankfully, everything is made in front of you, so this was fixed and I enjoyed my filet and lobster as ordered. That stated, this place is just too loud (and I'm eighteen, so that says a lot), and the service feels rushed.\\\\n\\\\nMy suggestion? Go to the Nakato down the road.\",\n",
       " \"I went here with a couple of friends a while ago and honestly everything was mediocre at best. For the price, quality, and quantity there's a similar restaurant nearby that's way better. The service wasn't bad, and the presentation was typical. Just nothing special. I have no specific complaints, but nothing to brag about or remember, either.\",\n",
       " \"Our choice and the choice of our son's family when we want Indian food in Charlotte.\\\\n\\\\nExcellent food covering all the Indian traditionals such as tandoori, curries, samosas and other appetizers, breads, etc.  Portions are reasonable, along with prices.  \\\\n\\\\nCarry out is very normal and it is packed to stay hot for over an hour.  Sometimes we have picked up an order and could not eat it until two hours later and it was reasonably warm enough to not require reheating.\\\\n\\\\nSome in our family are spice sissies, so we usually order medium heat, but they can melt your inlays and challenge your tongue's survival by ordering level 5 out of 5, or even higher.  Always try a lower level before you take on the masters of spice.\\\\n\\\\nYou might want to order extra rice if you like rice to sop up the wonderful sauces as much as we do.  Their naan bread is excellent, thick and doughy.  Naan, rice, sauces:  what more do you need to yum up your tum?\\\\n\\\\nThe dining area is comfortable, romantically lighted with booths and tables, serving the same menu as take-out.  We think this would be a good first date place as well as a family dining experience.\\\\n\\\\nThere is a buffet lunch, but we have only used the Bombay Grille for dinner so cannot comment on lunch.\",\n",
       " \"Extremely dissapointing trip here. Service was average to bad. Food quality left a lot to be improved. Currys have no meat but curry. Taste wise it isn't great either. I make far better indian food at home. Meat was not cooked properly and was very chewy. Overall I don't recommend it and won't be going back at all. Oh yeah their carpets were dirty with food everywhere,seems like they don't vacuum at all or very little.\",\n",
       " 'Visited on a Wednesday for the lunch buffet and arrived around 1120am. When my roommate and I first got there, we were the only patrons there!  I thought perhaps we were early, but throughout our meal only one other table with two customers were there and when they left a mother and daughter came in towards the end of our meal.  Our waiter was friendly, he came to refill our waters twice.  Other than that we really didn\\'t see him.  I was a bit disappointed in the selection. There were 3 vegetarian /vegetable options, 3 chicken options and a couple of of other things like soup, potato wedges, and rice pudding that was extremely soupy. I am a vegetarian, so I was already limited in my choices.  At one point I went back to get some more rice and the rice was never refilled, so I was literally scrapping the bowl!  I mostly ate a dish with broccoli in a tomato sauce, which was by far my most favored item on the day\\'s buffet menu.  While I did have an enjoyable time with my roommate, my taste buds were not jumping for joy as I had previously imagined that they would.  I love Indian food, but my experience at Bombay Grille was although not horrible, was also not what I would envision as something to be repeated.\\\\n\\\\nNormally at buffets I can usually eat between 2-3 plates.  Their food was extremely heavy and could only eat one full plate.  After leaving the restaurant I took a nap and very long walk afterwards, and I still was full to the point of being uncomfortable.  I am grateful that I did not have to work that day, I would have been miserable.  I even thought that possibly they put heavy cream in their food, but of course I am not in their kitchen, so that will go unknown.  Food has never made me feel that way.  \\\\n\\\\nKey points that I was disappointed in were:\\\\n1. Buffets usually have a great selection, so that a person can sample several different dishes- Bombay Grille failed here.\\\\n2. Indian buffets usually have at least one dish with paneer- Bombay Grille failed here.\\\\n3. Indian buffets are supposed to have several different curry dishes (mild, medium, spicy and different kinds of curry). There was only one curry chicken dish.- FAIL\\\\n4. Bombay Grille- FAILed to refill the rice.. there were only 4 people in there at any given time!!!!  I\\'d hate to see what the buffet would like after 20 minutes if it was packed or even half way full.\\\\n5. Where were the spices? It\\'s bad enough that there wasn\\'t any good curry or paneer, but I couldn\\'t taste any spices.  In my opinion, this is an Americanized Indian restaurant. I could not taste any pepper, cardamon, anise, cumin, cinnamon, cloves, saffron, tamarind or turmeric! -FAIL\\\\n7. Naan- didn\\'t taste like it was homemade.. looked and tasted like store bought and it was plain.. they didn\\'t have garlic naan!  By the time I had some, it was cold, chewy and blah.  No ghee and naan!  No spices or raisin and naan.  NOT SATISFIED!\\\\n6. The price for the selection. - FAIL\\\\n\\\\nThe decor is slightly plain.. the only redeeming quality was what I was craving for over a month since moving to Charlotte.. a Mango Lassi.\\\\n\\\\nOverall, I would not return to this restaurant.. the food quality, selection and price were less than stellar.  I\\'ve heard great things about \\\\\"Passage to India\\\\\" in the University area and can\\'t wait to check it out!',\n",
       " 'There are a couple of amazing wood sculptures in the place.  The food however, is not as noteable.\\\\n\\\\nThe food is average or typical of Thai cuisine.  The dishes are standard and taste and look like what thai food should, however, nothing stood out as being anything more than average.  I am wondering if I am being to critical and if yelp should have 2 rating systems.  1 rating for how a place might compare against local establishments, and another rating for the restaurant nationally.\\\\n\\\\nWith that in mind, of the 2 places in Charlotte I have tried for thai, this is clearly the better.']"
      ]
     },
     "execution_count": 27,
     "metadata": {},
     "output_type": "execute_result"
    }
   ],
   "source": [
    "all_keys[700:720]"
   ]
  },
  {
   "cell_type": "code",
   "execution_count": null,
   "metadata": {},
   "outputs": [],
   "source": []
  }
 ],
 "metadata": {
  "kernelspec": {
   "display_name": "ecco_env",
   "language": "python",
   "name": "python3"
  },
  "language_info": {
   "codemirror_mode": {
    "name": "ipython",
    "version": 3
   },
   "file_extension": ".py",
   "mimetype": "text/x-python",
   "name": "python",
   "nbconvert_exporter": "python",
   "pygments_lexer": "ipython3",
   "version": "3.10.13"
  }
 },
 "nbformat": 4,
 "nbformat_minor": 2
}
